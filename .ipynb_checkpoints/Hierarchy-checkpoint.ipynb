{
 "cells": [
  {
   "cell_type": "code",
   "execution_count": 3,
   "metadata": {},
   "outputs": [
    {
     "name": "stdout",
     "output_type": "stream",
     "text": [
      "Who are you\n",
      "0- Employee \n",
      "1- Manager \n",
      "2-Senior Manager \n",
      "3- Director \n",
      "4- Vice President \n",
      "5- President \n",
      "\n",
      "\n",
      "What is your request\n"
     ]
    }
   ],
   "source": [
    "from queue_raw import *\n",
    "\n",
    "print(\"Who are you\")\n",
    "\n",
    "\n",
    "print(\"0- Employee \\n1- Manager \\n2-Senior Manager \\n3- Director \\n4- Vice President \\n5- President \")\n",
    "print(\"\\n\\nWhat is your request\")\n",
    "\n",
    "hierarchy = Queue()"
   ]
  },
  {
   "cell_type": "code",
   "execution_count": 8,
   "metadata": {},
   "outputs": [
    {
     "ename": "SyntaxError",
     "evalue": "invalid syntax (<ipython-input-8-b266282cc490>, line 1)",
     "output_type": "error",
     "traceback": [
      "\u001b[1;36m  File \u001b[1;32m\"<ipython-input-8-b266282cc490>\"\u001b[1;36m, line \u001b[1;32m1\u001b[0m\n\u001b[1;33m    hierarchy.add(['employee':0])\u001b[0m\n\u001b[1;37m                             ^\u001b[0m\n\u001b[1;31mSyntaxError\u001b[0m\u001b[1;31m:\u001b[0m invalid syntax\n"
     ]
    }
   ],
   "source": [
    "hierarchy.add({'employee':0}])"
   ]
  },
  {
   "cell_type": "code",
   "execution_count": null,
   "metadata": {},
   "outputs": [],
   "source": []
  }
 ],
 "metadata": {
  "kernelspec": {
   "display_name": "Python 3",
   "language": "python",
   "name": "python3"
  },
  "language_info": {
   "codemirror_mode": {
    "name": "ipython",
    "version": 3
   },
   "file_extension": ".py",
   "mimetype": "text/x-python",
   "name": "python",
   "nbconvert_exporter": "python",
   "pygments_lexer": "ipython3",
   "version": "3.7.3"
  }
 },
 "nbformat": 4,
 "nbformat_minor": 2
}
